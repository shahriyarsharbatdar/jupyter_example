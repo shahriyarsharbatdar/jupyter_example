{
 "cells": [
  {
   "cell_type": "markdown",
   "id": "2e1b115f-1769-4340-81f9-7deb6fd4f48a",
   "metadata": {},
   "source": [
    "# 1"
   ]
  },
  {
   "attachments": {},
   "cell_type": "markdown",
   "id": "d08a01c9-1517-4ca1-a261-5cd646454fc3",
   "metadata": {},
   "source": [
    "Sometimes there is a need to create an empty and full array simultaneously for a particular question.\n",
    "\n",
    "Create a 3x4 empty numpy array\n",
    "Create a 3x4 full numpy array where every element is equal to 55.\n",
    "\n"
   ]
  },
  {
   "cell_type": "markdown",
   "id": "74fb9f94-4332-4493-a945-73538da58ff0",
   "metadata": {},
   "source": [
    "answer:"
   ]
  },
  {
   "cell_type": "code",
   "execution_count": 3,
   "id": "de0e896b-a279-44de-90b6-5050247eea2d",
   "metadata": {},
   "outputs": [
    {
     "name": "stdout",
     "output_type": "stream",
     "text": [
      "empty array :\n",
      " [[0 0 0 0]\n",
      " [0 0 0 0]\n",
      " [0 0 0 0]]\n",
      "full 55 array:\n",
      " [[66 66 66 66]\n",
      " [66 66 66 66]\n",
      " [66 66 66 66]]\n"
     ]
    }
   ],
   "source": [
    "import numpy as np\n",
    "#creating empty array\n",
    "empty_array = np.empty([3,4], dtype=int)\n",
    "print(\"empty array :\\n\", empty_array, end=\"\\n\")\n",
    "\n",
    "#creating full array\n",
    "full_55_array = np.full([3,4],66, dtype=int) \n",
    "print(\"full 55 array:\\n\", full_55_array, end=\"\\n\")"
   ]
  },
  {
   "cell_type": "markdown",
   "id": "1c5da671-0467-41e5-aae8-58cdb0b637bc",
   "metadata": {},
   "source": [
    "# 2"
   ]
  },
  {
   "cell_type": "markdown",
   "id": "fbc48269-dba5-4c93-8254-34fbec8b1502",
   "metadata": {},
   "source": [
    "Find the average of non-zero elements of a = np.array([1, 0, 2, 0, 3, 0, 0, 5, 6, 7, 5, 0, 8]) ."
   ]
  },
  {
   "cell_type": "markdown",
   "id": "48594193-808d-49b8-b0e9-05036d41aa4d",
   "metadata": {},
   "source": [
    "answer:"
   ]
  },
  {
   "cell_type": "code",
   "execution_count": 49,
   "id": "b219e612-82a4-4e3a-8751-1fcaeda6c9b5",
   "metadata": {},
   "outputs": [
    {
     "data": {
      "text/plain": [
       "4.625"
      ]
     },
     "execution_count": 49,
     "metadata": {},
     "output_type": "execute_result"
    }
   ],
   "source": [
    "import numpy as np\n",
    "a = np.array([1, 0, 2, 0, 3, 0, 0, 5, 6, 7, 5, 0, 8])\n",
    "a[a != 0].mean()"
   ]
  },
  {
   "cell_type": "markdown",
   "id": "b714900f-db49-461f-ac89-7f0c26e748d9",
   "metadata": {},
   "source": [
    "# 3"
   ]
  },
  {
   "cell_type": "markdown",
   "id": "471e598c-a77f-4581-ae42-e30bb98e187e",
   "metadata": {},
   "source": [
    "Numpy Array Middle Rows\n",
    "a_3d = np.array(\n",
    "    [[[10, 25, 70], [30, 45, 55], [20, 45, 7]],\n",
    "    [[50, 65, 8], [70, 85, 10], [11, 22, 33]]]\n",
    ")"
   ]
  },
  {
   "cell_type": "markdown",
   "id": "abc2bb46-bd0d-4d73-a7ca-9acc3b3cf062",
   "metadata": {},
   "source": [
    "answer:"
   ]
  },
  {
   "cell_type": "code",
   "execution_count": 50,
   "id": "aa55e4a0-3089-49d1-b86e-edec5488f37d",
   "metadata": {},
   "outputs": [
    {
     "name": "stdout",
     "output_type": "stream",
     "text": [
      "[[[30 45 55]]\n",
      "\n",
      " [[70 85 10]]]\n"
     ]
    }
   ],
   "source": [
    "import numpy as np\n",
    "a_3d = np.array( [[[10, 25, 70], [30, 45, 55], [20, 45, 7]], [[50, 65, 8], [70, 85, 10], [11, 22, 33]]] )\n",
    "\n",
    "# Access the Middle rows of 3-D array\n",
    "\n",
    "a_3d\n",
    "\n",
    "res = a_3d[:,[1]]\n",
    "print(res)"
   ]
  },
  {
   "cell_type": "markdown",
   "id": "a5091ad3-e22d-4120-bb6b-c79f8119e367",
   "metadata": {},
   "source": [
    "# 4"
   ]
  },
  {
   "cell_type": "markdown",
   "id": "b81cca63-8497-4aab-8ab8-162862dc70fd",
   "metadata": {},
   "source": [
    "Create a list in Python and store it in the python_list1 variable. Then create a one-dimensional ndarray using the python_list1 variable and store it in the ndarray_1d variable."
   ]
  },
  {
   "cell_type": "markdown",
   "id": "c1169b1f-70aa-4c54-9b77-8d5c3cbfe932",
   "metadata": {},
   "source": [
    "answer:"
   ]
  },
  {
   "cell_type": "code",
   "execution_count": 61,
   "id": "422fcd17-c9b5-4e63-b5b0-c662767ae5c8",
   "metadata": {},
   "outputs": [
    {
     "data": {
      "text/plain": [
       "array([0, 1, 2, 3, 4, 5, 6, 7, 8, 9])"
      ]
     },
     "execution_count": 61,
     "metadata": {},
     "output_type": "execute_result"
    }
   ],
   "source": [
    "import numpy as np\n",
    "python_list1 = [*range(10)]\n",
    "one_dimensional_array = np.array(python_list1, dtype=int)\n",
    "one_dimensional_array"
   ]
  },
  {
   "cell_type": "markdown",
   "id": "abb89fd2-54bb-46f3-9017-c835e5c94a3f",
   "metadata": {},
   "source": [
    "# 5"
   ]
  },
  {
   "cell_type": "markdown",
   "id": "8fa1577a-521e-4be0-95c3-67ea91a90c07",
   "metadata": {},
   "source": [
    "Create a nested list in Python and store it in the python_list2 variable. Then create a two-dimensional ndarray using the python_list2 variable and store it in the ndarray_2d variable."
   ]
  },
  {
   "cell_type": "markdown",
   "id": "66aeef3c-45f2-46f1-b937-1f88bc3b0ccc",
   "metadata": {},
   "source": [
    "answer:"
   ]
  },
  {
   "cell_type": "code",
   "execution_count": 65,
   "id": "b18b08c5-a8f8-4d7e-8308-ffd8213b5a4b",
   "metadata": {},
   "outputs": [
    {
     "data": {
      "text/plain": [
       "array([[ 0,  1,  2,  3,  4,  5,  6,  7,  8,  9],\n",
       "       [10, 11, 12, 13, 14, 15, 16, 17, 18, 19]])"
      ]
     },
     "execution_count": 65,
     "metadata": {},
     "output_type": "execute_result"
    }
   ],
   "source": [
    "import numpy as np\n",
    "python_list2 = [[*range(10)], [*range(10,20)]]\n",
    "two_dimensional_array = np.array(python_list2)\n",
    "two_dimensional_array"
   ]
  },
  {
   "cell_type": "markdown",
   "id": "842eeb14-4be4-4f8f-a297-d68cda4bb772",
   "metadata": {},
   "source": [
    "# 6"
   ]
  },
  {
   "cell_type": "markdown",
   "id": "4e4b3701-9678-4c6a-ace7-74b44f46afca",
   "metadata": {},
   "source": [
    "Create a 2-dimensional array of size 3x3 named x, composed of 1-byte integer elements.\n"
   ]
  },
  {
   "cell_type": "markdown",
   "id": "844f1e68-db64-4d85-9d06-777d20c87224",
   "metadata": {},
   "source": [
    "answer:"
   ]
  },
  {
   "cell_type": "code",
   "execution_count": 87,
   "id": "9bb9050a-229f-403b-9cb9-e60c6716103f",
   "metadata": {},
   "outputs": [],
   "source": [
    "import numpy as np\n",
    "my_array = np.random.randint(0,10,(3,3), dtype=\"i1\")"
   ]
  },
  {
   "cell_type": "code",
   "execution_count": 88,
   "id": "39c8199e-4045-4573-9547-11be99d312ea",
   "metadata": {},
   "outputs": [
    {
     "data": {
      "text/plain": [
       "array([[4, 9, 2],\n",
       "       [3, 4, 3],\n",
       "       [7, 1, 7]], dtype=int8)"
      ]
     },
     "execution_count": 88,
     "metadata": {},
     "output_type": "execute_result"
    }
   ],
   "source": [
    "my_array"
   ]
  },
  {
   "cell_type": "markdown",
   "id": "4c7bb485-89f4-416c-8c68-66a7f52b2183",
   "metadata": {},
   "source": [
    "# 7"
   ]
  },
  {
   "cell_type": "markdown",
   "id": "9b6a2265-9739-4bc6-b8aa-3b7fd0da11aa",
   "metadata": {},
   "source": [
    "Create an array containing the numbers 0 to 999 and store it in variable a1 ."
   ]
  },
  {
   "cell_type": "markdown",
   "id": "52d19c71-cdff-4714-b4b9-9eafed559fdf",
   "metadata": {},
   "source": [
    "answer:"
   ]
  },
  {
   "cell_type": "code",
   "execution_count": 102,
   "id": "c7463e89-5487-48c9-b934-799328882b83",
   "metadata": {},
   "outputs": [],
   "source": [
    "a1 = np.arange(0,1000)"
   ]
  },
  {
   "cell_type": "markdown",
   "id": "de390b9a-eded-462a-9ffa-0c34c5ea6c46",
   "metadata": {},
   "source": [
    "# 8"
   ]
  },
  {
   "cell_type": "markdown",
   "id": "984e09e9-d007-4d9d-9bc0-51617b59843d",
   "metadata": {},
   "source": [
    "Create an array of dtype float containing the numbers -3 to 3 and store it in variable a2 .\n",
    "\n",
    "(The number 3 itself is not in the array)"
   ]
  },
  {
   "cell_type": "markdown",
   "id": "85dc760d-b19d-4561-9a7f-9fafb48ec4a0",
   "metadata": {},
   "source": [
    "answer:"
   ]
  },
  {
   "cell_type": "code",
   "execution_count": 107,
   "id": "098b528a-823c-416c-bc97-e8d0ffdf069d",
   "metadata": {},
   "outputs": [],
   "source": [
    "a2 = np.arange(-2, 3, dtype=\"f4\")"
   ]
  },
  {
   "cell_type": "code",
   "execution_count": 108,
   "id": "04e2f272-f9ad-4d0f-b414-873895aa8f3a",
   "metadata": {},
   "outputs": [
    {
     "data": {
      "text/plain": [
       "array([-2., -1.,  0.,  1.,  2.], dtype=float32)"
      ]
     },
     "execution_count": 108,
     "metadata": {},
     "output_type": "execute_result"
    }
   ],
   "source": [
    "a2"
   ]
  },
  {
   "cell_type": "markdown",
   "id": "22caaabd-32da-4662-816c-5fc2148616c6",
   "metadata": {},
   "source": [
    "# 9"
   ]
  },
  {
   "cell_type": "markdown",
   "id": "623315f3-e799-4024-a832-6ddde1f803ce",
   "metadata": {},
   "source": [
    "Create an array that starts at 2 and goes up to 10 in steps of 0.1 and store it in variable a3\n",
    "\n",
    "(The number 10 itself is not in the array)"
   ]
  },
  {
   "cell_type": "markdown",
   "id": "cb7513ec-214f-44e1-8c37-25b558e581d6",
   "metadata": {},
   "source": [
    "answer:"
   ]
  },
  {
   "cell_type": "code",
   "execution_count": 128,
   "id": "a151e7fb-b5dc-4fed-bdf6-f1966333f66e",
   "metadata": {},
   "outputs": [],
   "source": [
    "a3 = np.arange(2,10,0.1)"
   ]
  },
  {
   "cell_type": "code",
   "execution_count": 110,
   "id": "c90986bd-a475-45df-8978-84e923888d8d",
   "metadata": {},
   "outputs": [
    {
     "data": {
      "text/plain": [
       "array([2. , 2.1, 2.2, 2.3, 2.4, 2.5, 2.6, 2.7, 2.8, 2.9, 3. , 3.1, 3.2,\n",
       "       3.3, 3.4, 3.5, 3.6, 3.7, 3.8, 3.9, 4. , 4.1, 4.2, 4.3, 4.4, 4.5,\n",
       "       4.6, 4.7, 4.8, 4.9, 5. , 5.1, 5.2, 5.3, 5.4, 5.5, 5.6, 5.7, 5.8,\n",
       "       5.9, 6. , 6.1, 6.2, 6.3, 6.4, 6.5, 6.6, 6.7, 6.8, 6.9, 7. , 7.1,\n",
       "       7.2, 7.3, 7.4, 7.5, 7.6, 7.7, 7.8, 7.9, 8. , 8.1, 8.2, 8.3, 8.4,\n",
       "       8.5, 8.6, 8.7, 8.8, 8.9, 9. , 9.1, 9.2, 9.3, 9.4, 9.5, 9.6, 9.7,\n",
       "       9.8, 9.9])"
      ]
     },
     "execution_count": 110,
     "metadata": {},
     "output_type": "execute_result"
    }
   ],
   "source": [
    "a3"
   ]
  },
  {
   "cell_type": "markdown",
   "id": "8bcf4b4d-f22d-4e40-b799-85d2d8074f5e",
   "metadata": {},
   "source": [
    "# 10"
   ]
  },
  {
   "cell_type": "markdown",
   "id": "d7e0caec-c482-4ba2-9638-e0b746132b97",
   "metadata": {},
   "source": [
    "Create an array that starts at -0.5 and goes up to 0.2 in steps of 0.1 and store it in variable a4.\n",
    "\n",
    "(The number 0.2 itself is not in the array)"
   ]
  },
  {
   "cell_type": "markdown",
   "id": "52c6ee0b-6e9d-44d8-9213-affaf674f449",
   "metadata": {},
   "source": [
    "answer:"
   ]
  },
  {
   "cell_type": "code",
   "execution_count": 124,
   "id": "3a20a583-6a42-473c-a816-271288c5744b",
   "metadata": {},
   "outputs": [],
   "source": [
    "a4 = np.linspace(-0.5, 0.2,7)"
   ]
  },
  {
   "cell_type": "code",
   "execution_count": 125,
   "id": "ab88043a-0fe5-45d7-a0b6-3bf0d02deefa",
   "metadata": {},
   "outputs": [
    {
     "data": {
      "text/plain": [
       "array([-0.5       , -0.38333333, -0.26666667, -0.15      , -0.03333333,\n",
       "        0.08333333,  0.2       ])"
      ]
     },
     "execution_count": 125,
     "metadata": {},
     "output_type": "execute_result"
    }
   ],
   "source": [
    "a4"
   ]
  },
  {
   "cell_type": "markdown",
   "id": "50f0290e-b1e3-4534-9b16-1388d9eaf848",
   "metadata": {},
   "source": [
    "# 11"
   ]
  },
  {
   "cell_type": "markdown",
   "id": "1ee3e300-0a0f-47eb-848e-a1a99c3eb45d",
   "metadata": {},
   "source": [
    "Create an array containing 7 elements between the numbers 1 to 121 in such a way that the numbers 1 and 121 are part of this array and the distance between the numbers should be equal. store the array in a5 variable"
   ]
  },
  {
   "cell_type": "markdown",
   "id": "310dff3a-b221-4778-87fe-49896ed3bd75",
   "metadata": {},
   "source": [
    "answer:"
   ]
  },
  {
   "cell_type": "code",
   "execution_count": 126,
   "id": "9d09444d-6c04-44e0-b890-5706f0fa6fb9",
   "metadata": {},
   "outputs": [],
   "source": [
    "a5 = np.linspace(1, 121, 7)"
   ]
  },
  {
   "cell_type": "code",
   "execution_count": 127,
   "id": "42b6f770-91a9-49c9-8d2e-3370ada1fa10",
   "metadata": {},
   "outputs": [
    {
     "data": {
      "text/plain": [
       "array([  1.,  21.,  41.,  61.,  81., 101., 121.])"
      ]
     },
     "execution_count": 127,
     "metadata": {},
     "output_type": "execute_result"
    }
   ],
   "source": [
    "a5"
   ]
  },
  {
   "cell_type": "markdown",
   "id": "8842638a-5ca6-4b85-9a5c-f1eeb925e0a9",
   "metadata": {},
   "source": [
    "# 12"
   ]
  },
  {
   "cell_type": "markdown",
   "id": "b062b93b-5aec-4945-89e7-c0a1916ecc1d",
   "metadata": {},
   "source": [
    "Create an array containing 16 elements between the numbers -3 to 3 in such a way that the numbers -3 and 3 are part of this array and the distance between the numbers should be equal. store the array in a6 variable"
   ]
  },
  {
   "cell_type": "markdown",
   "id": "610d5d2e-6988-4387-8e7d-fe0e4df6ab64",
   "metadata": {},
   "source": [
    "answer:"
   ]
  },
  {
   "cell_type": "code",
   "execution_count": 134,
   "id": "c6491b1b-1318-4361-af1f-ef08111889ba",
   "metadata": {},
   "outputs": [],
   "source": [
    "a6 = np.linspace(-3, 3, 16)"
   ]
  },
  {
   "cell_type": "code",
   "execution_count": 135,
   "id": "420363d2-cbd2-47c8-a305-92e9354b923a",
   "metadata": {},
   "outputs": [
    {
     "data": {
      "text/plain": [
       "array([-3. , -2.6, -2.2, -1.8, -1.4, -1. , -0.6, -0.2,  0.2,  0.6,  1. ,\n",
       "        1.4,  1.8,  2.2,  2.6,  3. ])"
      ]
     },
     "execution_count": 135,
     "metadata": {},
     "output_type": "execute_result"
    }
   ],
   "source": [
    "a6"
   ]
  },
  {
   "cell_type": "markdown",
   "id": "e1014352-94c6-407e-9fce-67bf5bb17b5f",
   "metadata": {},
   "source": [
    "# 13"
   ]
  },
  {
   "cell_type": "markdown",
   "id": "d65fb9ec-a989-4ec5-8780-795fb5e59f72",
   "metadata": {},
   "source": [
    "Create an 4×4 array that its main diameter is equal to 1 and other elements are equal to zero \n",
    "\n",
    "and store this variable in a7 variable"
   ]
  },
  {
   "cell_type": "markdown",
   "id": "b2c75461-9e4d-49de-a07a-06aacb240a71",
   "metadata": {},
   "source": [
    "answer:"
   ]
  },
  {
   "cell_type": "code",
   "execution_count": 154,
   "id": "6c21b849-e258-4ca3-b246-bcf70d2bf3b7",
   "metadata": {},
   "outputs": [],
   "source": [
    "a7 = np.eye(4)"
   ]
  },
  {
   "cell_type": "code",
   "execution_count": 155,
   "id": "8beda52f-5bdb-49f5-88c4-dc46814e5357",
   "metadata": {},
   "outputs": [
    {
     "data": {
      "text/plain": [
       "array([[1., 0., 0., 0.],\n",
       "       [0., 1., 0., 0.],\n",
       "       [0., 0., 1., 0.],\n",
       "       [0., 0., 0., 1.]])"
      ]
     },
     "execution_count": 155,
     "metadata": {},
     "output_type": "execute_result"
    }
   ],
   "source": [
    "a7"
   ]
  },
  {
   "cell_type": "markdown",
   "id": "34697d83-206c-4420-a2ab-be31b8757e12",
   "metadata": {},
   "source": [
    "# 14"
   ]
  },
  {
   "cell_type": "markdown",
   "id": "48bcc85a-7acc-4711-b817-eddd345a19fb",
   "metadata": {},
   "source": [
    "Create a 7×7 array that it's main diameter contains the numbers from 1 to 121 with equal distance and other elements are equal to zero then store it in the a9 variable."
   ]
  },
  {
   "cell_type": "markdown",
   "id": "a3ba370c-747e-4fb4-819e-e4af484a7b65",
   "metadata": {},
   "source": [
    "answer:"
   ]
  },
  {
   "cell_type": "code",
   "execution_count": 170,
   "id": "59436a96-156c-4732-b4ac-386d2bf99c82",
   "metadata": {},
   "outputs": [],
   "source": [
    "a9 = np.diag(np.linspace(1,121,7))\n"
   ]
  },
  {
   "cell_type": "code",
   "execution_count": 171,
   "id": "2834abde-bd8a-43f3-b545-44589e7fd3e2",
   "metadata": {},
   "outputs": [
    {
     "data": {
      "text/plain": [
       "array([[  1.,   0.,   0.,   0.,   0.,   0.,   0.],\n",
       "       [  0.,  21.,   0.,   0.,   0.,   0.,   0.],\n",
       "       [  0.,   0.,  41.,   0.,   0.,   0.,   0.],\n",
       "       [  0.,   0.,   0.,  61.,   0.,   0.,   0.],\n",
       "       [  0.,   0.,   0.,   0.,  81.,   0.,   0.],\n",
       "       [  0.,   0.,   0.,   0.,   0., 101.,   0.],\n",
       "       [  0.,   0.,   0.,   0.,   0.,   0., 121.]])"
      ]
     },
     "execution_count": 171,
     "metadata": {},
     "output_type": "execute_result"
    }
   ],
   "source": [
    "a9"
   ]
  },
  {
   "cell_type": "markdown",
   "id": "acc08f97-247b-433f-9eb7-b8a810110644",
   "metadata": {},
   "source": [
    "# 15"
   ]
  },
  {
   "cell_type": "markdown",
   "id": "44ce3c22-6c60-49a9-9374-70d7b88ac177",
   "metadata": {},
   "source": [
    "A 5×5 array is stored in a variable named z, store the value of the second diameter lower than the main diameter in a variable called a10"
   ]
  },
  {
   "cell_type": "markdown",
   "id": "e4b4fb30-0dcb-4f08-b2a6-47f09f33af77",
   "metadata": {},
   "source": [
    "answer:"
   ]
  },
  {
   "cell_type": "code",
   "execution_count": 198,
   "id": "7cae7081-5b59-42e9-a38a-d7bf7b501250",
   "metadata": {},
   "outputs": [
    {
     "name": "stdout",
     "output_type": "stream",
     "text": [
      "[[0. 0. 0. 0. 0.]\n",
      " [0. 0. 0. 0. 0.]\n",
      " [1. 0. 0. 0. 0.]\n",
      " [0. 1. 0. 0. 0.]\n",
      " [0. 0. 1. 0. 0.]]\n"
     ]
    },
    {
     "data": {
      "text/plain": [
       "array([1., 1., 1.])"
      ]
     },
     "execution_count": 198,
     "metadata": {},
     "output_type": "execute_result"
    }
   ],
   "source": [
    "z = np.eye(5, k=-2)\n",
    "a10 = np.diag(z, -2)\n",
    "print(z)\n",
    "a10"
   ]
  },
  {
   "cell_type": "markdown",
   "id": "a2796698-ba1f-4af7-8138-8e842bc4b3e5",
   "metadata": {},
   "source": [
    "# 16"
   ]
  },
  {
   "cell_type": "markdown",
   "id": "570058db-9bb7-41de-866f-f9bee119d85f",
   "metadata": {},
   "source": [
    "Create a 6x4 array with all zero elements and store it in variable a11\n"
   ]
  },
  {
   "cell_type": "markdown",
   "id": "7a369f51-dc99-4fa9-99b2-1b1ef8689905",
   "metadata": {},
   "source": [
    "answer:"
   ]
  },
  {
   "cell_type": "code",
   "execution_count": 177,
   "id": "f3b6b093-4a70-4f6f-92af-4c8ca4defbf4",
   "metadata": {},
   "outputs": [],
   "source": [
    "a11 = np.zeros([6,4])"
   ]
  },
  {
   "cell_type": "code",
   "execution_count": 178,
   "id": "1243d70e-b5d3-47a5-a3ee-2c9208c34e77",
   "metadata": {},
   "outputs": [
    {
     "data": {
      "text/plain": [
       "array([[0., 0., 0., 0.],\n",
       "       [0., 0., 0., 0.],\n",
       "       [0., 0., 0., 0.],\n",
       "       [0., 0., 0., 0.],\n",
       "       [0., 0., 0., 0.],\n",
       "       [0., 0., 0., 0.]])"
      ]
     },
     "execution_count": 178,
     "metadata": {},
     "output_type": "execute_result"
    }
   ],
   "source": [
    "a11"
   ]
  },
  {
   "cell_type": "markdown",
   "id": "a9279637-1a48-44d0-a7a9-0ece19f2a0d9",
   "metadata": {},
   "source": [
    "# 17"
   ]
  },
  {
   "cell_type": "markdown",
   "id": "b9d4543a-1576-4e0e-bd61-d6386fc4a70b",
   "metadata": {},
   "source": [
    "Create a 6x4 array with all one elements and store it in variable a12"
   ]
  },
  {
   "cell_type": "markdown",
   "id": "ea23e876-9083-428b-bb64-f5a8d0504055",
   "metadata": {},
   "source": [
    "answer:"
   ]
  },
  {
   "cell_type": "code",
   "execution_count": 179,
   "id": "7e8bf23d-b9f1-414f-b9ac-0b52d7920a26",
   "metadata": {},
   "outputs": [],
   "source": [
    "a12 = np.ones([6,4])"
   ]
  },
  {
   "cell_type": "code",
   "execution_count": 180,
   "id": "19b44410-6ba9-46d6-ae35-a9e533386fc1",
   "metadata": {},
   "outputs": [
    {
     "data": {
      "text/plain": [
       "array([[1., 1., 1., 1.],\n",
       "       [1., 1., 1., 1.],\n",
       "       [1., 1., 1., 1.],\n",
       "       [1., 1., 1., 1.],\n",
       "       [1., 1., 1., 1.],\n",
       "       [1., 1., 1., 1.]])"
      ]
     },
     "execution_count": 180,
     "metadata": {},
     "output_type": "execute_result"
    }
   ],
   "source": [
    "a12"
   ]
  },
  {
   "cell_type": "markdown",
   "id": "0d4707e3-4499-47af-b244-111122493ad7",
   "metadata": {},
   "source": [
    "# 18"
   ]
  },
  {
   "cell_type": "markdown",
   "id": "8111c89f-466a-4a2b-bb63-9bf087873d3f",
   "metadata": {},
   "source": [
    "Create a 6x4 array with all random elements and store it in variable a13 ."
   ]
  },
  {
   "cell_type": "markdown",
   "id": "26bc1f32-dd3a-490c-9dae-2a9a5651071d",
   "metadata": {},
   "source": [
    "answer:"
   ]
  },
  {
   "cell_type": "code",
   "execution_count": 209,
   "id": "410cec40-96ef-4d98-a1a7-43a6457f04cc",
   "metadata": {},
   "outputs": [
    {
     "data": {
      "text/plain": [
       "array([[0.16024283, 0.5722295 , 0.37713555, 0.32293518],\n",
       "       [0.68661389, 0.97223203, 0.96683025, 0.67129842],\n",
       "       [0.83010157, 0.45971184, 0.31707756, 0.54255623],\n",
       "       [0.60122338, 0.91302719, 0.40845736, 0.55091596],\n",
       "       [0.4104853 , 0.15238988, 0.04054205, 0.23318279],\n",
       "       [0.60778421, 0.90482775, 0.00868426, 0.45920704]])"
      ]
     },
     "execution_count": 209,
     "metadata": {},
     "output_type": "execute_result"
    }
   ],
   "source": [
    "np.random.default_rng(seed=32).random((6, 4))"
   ]
  },
  {
   "cell_type": "markdown",
   "id": "115b7921-e06a-40f0-b509-b04f05783120",
   "metadata": {},
   "source": [
    "# 19"
   ]
  },
  {
   "cell_type": "markdown",
   "id": "61390c99-17ad-447d-bad7-f56f0088c7a8",
   "metadata": {},
   "source": [
    "\n",
    "Create a 8x3 array with all its elements equal to the \"Pytopia\"  and then store it in the a15  variable."
   ]
  },
  {
   "cell_type": "markdown",
   "id": "3207b763-c2ce-485a-a0c8-343d3c129ddf",
   "metadata": {},
   "source": [
    "answer:"
   ]
  },
  {
   "cell_type": "code",
   "execution_count": 223,
   "id": "4d57bb1d-7afc-4660-a81c-48020d2c69e2",
   "metadata": {},
   "outputs": [],
   "source": [
    "a15 = np.full((8,3), \"Pytopia\")"
   ]
  },
  {
   "cell_type": "code",
   "execution_count": 224,
   "id": "1c593e6a-fde5-4184-a6a6-c5a232aac4ab",
   "metadata": {},
   "outputs": [
    {
     "data": {
      "text/plain": [
       "array([['Pytopia', 'Pytopia', 'Pytopia'],\n",
       "       ['Pytopia', 'Pytopia', 'Pytopia'],\n",
       "       ['Pytopia', 'Pytopia', 'Pytopia'],\n",
       "       ['Pytopia', 'Pytopia', 'Pytopia'],\n",
       "       ['Pytopia', 'Pytopia', 'Pytopia'],\n",
       "       ['Pytopia', 'Pytopia', 'Pytopia'],\n",
       "       ['Pytopia', 'Pytopia', 'Pytopia'],\n",
       "       ['Pytopia', 'Pytopia', 'Pytopia']], dtype='<U7')"
      ]
     },
     "execution_count": 224,
     "metadata": {},
     "output_type": "execute_result"
    }
   ],
   "source": [
    "a15"
   ]
  },
  {
   "cell_type": "markdown",
   "id": "e23d3fac-c55c-41ae-94c0-5f6b6650cf85",
   "metadata": {},
   "source": [
    "# 20"
   ]
  },
  {
   "cell_type": "markdown",
   "id": "7ae92e87-4c94-480e-a171-5afad65b2b26",
   "metadata": {},
   "source": [
    "Using numpy with one line of code, create an array similar to the one below and store it in the a16  variable.\n",
    "\n",
    "answer:"
   ]
  },
  {
   "cell_type": "code",
   "execution_count": 233,
   "id": "8280c46d-0670-4caf-8a53-6374de7846ee",
   "metadata": {},
   "outputs": [],
   "source": [
    "a16 = np.full((6,3), [-np.inf,np.nan,np.inf])"
   ]
  },
  {
   "cell_type": "code",
   "execution_count": 234,
   "id": "f6bbcd9f-f7c3-4b33-8a20-3a17d3d1626f",
   "metadata": {},
   "outputs": [
    {
     "data": {
      "text/plain": [
       "array([[-inf,  nan,  inf],\n",
       "       [-inf,  nan,  inf],\n",
       "       [-inf,  nan,  inf],\n",
       "       [-inf,  nan,  inf],\n",
       "       [-inf,  nan,  inf],\n",
       "       [-inf,  nan,  inf]])"
      ]
     },
     "execution_count": 234,
     "metadata": {},
     "output_type": "execute_result"
    }
   ],
   "source": [
    "a16"
   ]
  },
  {
   "cell_type": "code",
   "execution_count": null,
   "id": "5c2bfcec-db41-4654-8c34-e5f5301711ab",
   "metadata": {},
   "outputs": [],
   "source": []
  }
 ],
 "metadata": {
  "kernelspec": {
   "display_name": "Python 3 (ipykernel)",
   "language": "python",
   "name": "python3"
  },
  "language_info": {
   "codemirror_mode": {
    "name": "ipython",
    "version": 3
   },
   "file_extension": ".py",
   "mimetype": "text/x-python",
   "name": "python",
   "nbconvert_exporter": "python",
   "pygments_lexer": "ipython3",
   "version": "3.11.5"
  }
 },
 "nbformat": 4,
 "nbformat_minor": 5
}
