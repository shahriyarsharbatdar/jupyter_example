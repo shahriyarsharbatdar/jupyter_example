{
 "cells": [
  {
   "cell_type": "markdown",
   "id": "2e1b115f-1769-4340-81f9-7deb6fd4f48a",
   "metadata": {},
   "source": [
    "# 1"
   ]
  },
  {
   "attachments": {},
   "cell_type": "markdown",
   "id": "d08a01c9-1517-4ca1-a261-5cd646454fc3",
   "metadata": {},
   "source": [
    "Sometimes there is a need to create an empty and full array simultaneously for a particular question.\n",
    "\n",
    "Create a 3x4 empty numpy array\n",
    "Create a 3x4 full numpy array where every element is equal to 55.\n",
    "\n"
   ]
  },
  {
   "cell_type": "markdown",
   "id": "74fb9f94-4332-4493-a945-73538da58ff0",
   "metadata": {},
   "source": [
    "answar:"
   ]
  },
  {
   "cell_type": "code",
   "execution_count": 3,
   "id": "de0e896b-a279-44de-90b6-5050247eea2d",
   "metadata": {},
   "outputs": [
    {
     "name": "stdout",
     "output_type": "stream",
     "text": [
      "empty array :\n",
      " [[0 0 0 0]\n",
      " [0 0 0 0]\n",
      " [0 0 0 0]]\n",
      "full 55 array:\n",
      " [[66 66 66 66]\n",
      " [66 66 66 66]\n",
      " [66 66 66 66]]\n"
     ]
    }
   ],
   "source": [
    "import numpy as np\n",
    "#creating empty array\n",
    "empty_array = np.empty([3,4], dtype=int)\n",
    "print(\"empty array :\\n\", empty_array, end=\"\\n\")\n",
    "\n",
    "#creating full array\n",
    "full_55_array = np.full([3,4],66, dtype=int) \n",
    "print(\"full 55 array:\\n\", full_55_array, end=\"\\n\")"
   ]
  },
  {
   "cell_type": "markdown",
   "id": "1c5da671-0467-41e5-aae8-58cdb0b637bc",
   "metadata": {},
   "source": [
    "# 2"
   ]
  },
  {
   "cell_type": "markdown",
   "id": "fbc48269-dba5-4c93-8254-34fbec8b1502",
   "metadata": {},
   "source": [
    "Find the average of non-zero elements of a = np.array([1, 0, 2, 0, 3, 0, 0, 5, 6, 7, 5, 0, 8]) ."
   ]
  },
  {
   "cell_type": "markdown",
   "id": "48594193-808d-49b8-b0e9-05036d41aa4d",
   "metadata": {},
   "source": [
    "answar:"
   ]
  },
  {
   "cell_type": "code",
   "execution_count": 16,
   "id": "b219e612-82a4-4e3a-8751-1fcaeda6c9b5",
   "metadata": {},
   "outputs": [
    {
     "data": {
      "text/plain": [
       "4.625"
      ]
     },
     "execution_count": 16,
     "metadata": {},
     "output_type": "execute_result"
    }
   ],
   "source": [
    "a = np.array([1, 0, 2, 0, 3, 0, 0, 5, 6, 7, 5, 0, 8])\n",
    "a[a != 0].mean()"
   ]
  },
  {
   "cell_type": "markdown",
   "id": "b714900f-db49-461f-ac89-7f0c26e748d9",
   "metadata": {},
   "source": [
    "# 3"
   ]
  },
  {
   "cell_type": "code",
   "execution_count": null,
   "id": "25166b65-00bf-4a4d-9ae3-27567f521b00",
   "metadata": {},
   "outputs": [],
   "source": []
  }
 ],
 "metadata": {
  "kernelspec": {
   "display_name": "Python 3 (ipykernel)",
   "language": "python",
   "name": "python3"
  },
  "language_info": {
   "codemirror_mode": {
    "name": "ipython",
    "version": 3
   },
   "file_extension": ".py",
   "mimetype": "text/x-python",
   "name": "python",
   "nbconvert_exporter": "python",
   "pygments_lexer": "ipython3",
   "version": "3.11.5"
  }
 },
 "nbformat": 4,
 "nbformat_minor": 5
}
