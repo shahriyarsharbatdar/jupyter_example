{
 "cells": [
  {
   "cell_type": "markdown",
   "id": "2e1b115f-1769-4340-81f9-7deb6fd4f48a",
   "metadata": {},
   "source": [
    "# 1"
   ]
  },
  {
   "attachments": {},
   "cell_type": "markdown",
   "id": "d08a01c9-1517-4ca1-a261-5cd646454fc3",
   "metadata": {},
   "source": [
    "Sometimes there is a need to create an empty and full array simultaneously for a particular question.\n",
    "\n",
    "Create a 3x4 empty numpy array\n",
    "Create a 3x4 full numpy array where every element is equal to 55.\n",
    "\n"
   ]
  },
  {
   "cell_type": "markdown",
   "id": "74fb9f94-4332-4493-a945-73538da58ff0",
   "metadata": {},
   "source": [
    "answar:"
   ]
  },
  {
   "cell_type": "code",
   "execution_count": 3,
   "id": "de0e896b-a279-44de-90b6-5050247eea2d",
   "metadata": {},
   "outputs": [
    {
     "name": "stdout",
     "output_type": "stream",
     "text": [
      "empty array :\n",
      " [[0 0 0 0]\n",
      " [0 0 0 0]\n",
      " [0 0 0 0]]\n",
      "full 55 array:\n",
      " [[66 66 66 66]\n",
      " [66 66 66 66]\n",
      " [66 66 66 66]]\n"
     ]
    }
   ],
   "source": [
    "import numpy as np\n",
    "#creating empty array\n",
    "empty_array = np.empty([3,4], dtype=int)\n",
    "print(\"empty array :\\n\", empty_array, end=\"\\n\")\n",
    "\n",
    "#creating full array\n",
    "full_55_array = np.full([3,4],66, dtype=int) \n",
    "print(\"full 55 array:\\n\", full_55_array, end=\"\\n\")"
   ]
  },
  {
   "cell_type": "markdown",
   "id": "1c5da671-0467-41e5-aae8-58cdb0b637bc",
   "metadata": {},
   "source": [
    "# 2"
   ]
  },
  {
   "cell_type": "markdown",
   "id": "fbc48269-dba5-4c93-8254-34fbec8b1502",
   "metadata": {},
   "source": [
    "Find the average of non-zero elements of a = np.array([1, 0, 2, 0, 3, 0, 0, 5, 6, 7, 5, 0, 8]) ."
   ]
  },
  {
   "cell_type": "markdown",
   "id": "48594193-808d-49b8-b0e9-05036d41aa4d",
   "metadata": {},
   "source": [
    "answar:"
   ]
  },
  {
   "cell_type": "code",
   "execution_count": 49,
   "id": "b219e612-82a4-4e3a-8751-1fcaeda6c9b5",
   "metadata": {},
   "outputs": [
    {
     "data": {
      "text/plain": [
       "4.625"
      ]
     },
     "execution_count": 49,
     "metadata": {},
     "output_type": "execute_result"
    }
   ],
   "source": [
    "import numpy as np\n",
    "a = np.array([1, 0, 2, 0, 3, 0, 0, 5, 6, 7, 5, 0, 8])\n",
    "a[a != 0].mean()"
   ]
  },
  {
   "cell_type": "markdown",
   "id": "b714900f-db49-461f-ac89-7f0c26e748d9",
   "metadata": {},
   "source": [
    "# 3"
   ]
  },
  {
   "cell_type": "markdown",
   "id": "471e598c-a77f-4581-ae42-e30bb98e187e",
   "metadata": {},
   "source": [
    "Numpy Array Middle Rows\n",
    "a_3d = np.array(\n",
    "    [[[10, 25, 70], [30, 45, 55], [20, 45, 7]],\n",
    "    [[50, 65, 8], [70, 85, 10], [11, 22, 33]]]\n",
    ")"
   ]
  },
  {
   "cell_type": "markdown",
   "id": "abc2bb46-bd0d-4d73-a7ca-9acc3b3cf062",
   "metadata": {},
   "source": [
    "answare:"
   ]
  },
  {
   "cell_type": "code",
   "execution_count": 50,
   "id": "aa55e4a0-3089-49d1-b86e-edec5488f37d",
   "metadata": {},
   "outputs": [
    {
     "name": "stdout",
     "output_type": "stream",
     "text": [
      "[[[30 45 55]]\n",
      "\n",
      " [[70 85 10]]]\n"
     ]
    }
   ],
   "source": [
    "import numpy as np\n",
    "a_3d = np.array( [[[10, 25, 70], [30, 45, 55], [20, 45, 7]], [[50, 65, 8], [70, 85, 10], [11, 22, 33]]] )\n",
    "\n",
    "# Access the Middle rows of 3-D array\n",
    "\n",
    "a_3d\n",
    "\n",
    "res = a_3d[:,[1]]\n",
    "print(res)"
   ]
  },
  {
   "cell_type": "markdown",
   "id": "a5091ad3-e22d-4120-bb6b-c79f8119e367",
   "metadata": {},
   "source": [
    "# 4"
   ]
  },
  {
   "cell_type": "markdown",
   "id": "b81cca63-8497-4aab-8ab8-162862dc70fd",
   "metadata": {},
   "source": [
    "Create a list in Python and store it in the python_list1 variable. Then create a one-dimensional ndarray using the python_list1 variable and store it in the ndarray_1d variable."
   ]
  },
  {
   "cell_type": "markdown",
   "id": "c1169b1f-70aa-4c54-9b77-8d5c3cbfe932",
   "metadata": {},
   "source": [
    "answar:"
   ]
  },
  {
   "cell_type": "code",
   "execution_count": 61,
   "id": "422fcd17-c9b5-4e63-b5b0-c662767ae5c8",
   "metadata": {},
   "outputs": [
    {
     "data": {
      "text/plain": [
       "array([0, 1, 2, 3, 4, 5, 6, 7, 8, 9])"
      ]
     },
     "execution_count": 61,
     "metadata": {},
     "output_type": "execute_result"
    }
   ],
   "source": [
    "import numpy as np\n",
    "python_list1 = [*range(10)]\n",
    "one_dimensional_array = np.array(python_list1, dtype=int)\n",
    "one_dimensional_array"
   ]
  },
  {
   "cell_type": "markdown",
   "id": "abb89fd2-54bb-46f3-9017-c835e5c94a3f",
   "metadata": {},
   "source": [
    "# 5"
   ]
  },
  {
   "cell_type": "markdown",
   "id": "8fa1577a-521e-4be0-95c3-67ea91a90c07",
   "metadata": {},
   "source": [
    "Create a nested list in Python and store it in the python_list2 variable. Then create a two-dimensional ndarray using the python_list2 variable and store it in the ndarray_2d variable."
   ]
  },
  {
   "cell_type": "markdown",
   "id": "66aeef3c-45f2-46f1-b937-1f88bc3b0ccc",
   "metadata": {},
   "source": [
    "answar:"
   ]
  },
  {
   "cell_type": "code",
   "execution_count": 65,
   "id": "b18b08c5-a8f8-4d7e-8308-ffd8213b5a4b",
   "metadata": {},
   "outputs": [
    {
     "data": {
      "text/plain": [
       "array([[ 0,  1,  2,  3,  4,  5,  6,  7,  8,  9],\n",
       "       [10, 11, 12, 13, 14, 15, 16, 17, 18, 19]])"
      ]
     },
     "execution_count": 65,
     "metadata": {},
     "output_type": "execute_result"
    }
   ],
   "source": [
    "import numpy as np\n",
    "python_list2 = [[*range(10)], [*range(10,20)]]\n",
    "two_dimensional_array = np.array(python_list2)\n",
    "two_dimensional_array"
   ]
  },
  {
   "cell_type": "markdown",
   "id": "842eeb14-4be4-4f8f-a297-d68cda4bb772",
   "metadata": {},
   "source": [
    "# 6"
   ]
  },
  {
   "cell_type": "markdown",
   "id": "4e4b3701-9678-4c6a-ace7-74b44f46afca",
   "metadata": {},
   "source": [
    "Create a 2-dimensional array of size 3x3 named x, composed of 1-byte integer elements.\n"
   ]
  },
  {
   "cell_type": "markdown",
   "id": "844f1e68-db64-4d85-9d06-777d20c87224",
   "metadata": {},
   "source": [
    "answar:"
   ]
  },
  {
   "cell_type": "code",
   "execution_count": 80,
   "id": "9bb9050a-229f-403b-9cb9-e60c6716103f",
   "metadata": {},
   "outputs": [],
   "source": [
    "import numpy as np\n",
    "my_array = np.random.randint(0,10,(3,3), dtype=\"i8\")"
   ]
  },
  {
   "cell_type": "code",
   "execution_count": 81,
   "id": "39c8199e-4045-4573-9547-11be99d312ea",
   "metadata": {},
   "outputs": [
    {
     "data": {
      "text/plain": [
       "array([[9, 9, 9],\n",
       "       [5, 3, 1],\n",
       "       [4, 5, 5]])"
      ]
     },
     "execution_count": 81,
     "metadata": {},
     "output_type": "execute_result"
    }
   ],
   "source": [
    "my_array"
   ]
  },
  {
   "cell_type": "code",
   "execution_count": null,
   "id": "1f22690b-65a4-4e2b-9ba5-b102d2505945",
   "metadata": {},
   "outputs": [],
   "source": []
  }
 ],
 "metadata": {
  "kernelspec": {
   "display_name": "Python 3 (ipykernel)",
   "language": "python",
   "name": "python3"
  },
  "language_info": {
   "codemirror_mode": {
    "name": "ipython",
    "version": 3
   },
   "file_extension": ".py",
   "mimetype": "text/x-python",
   "name": "python",
   "nbconvert_exporter": "python",
   "pygments_lexer": "ipython3",
   "version": "3.11.5"
  }
 },
 "nbformat": 4,
 "nbformat_minor": 5
}
