





import numpy as np





#creating empty array
empty_array = np.empty([3,4], dtype=int)
print("empty array :\n", empty_array, end="\n")

#creating full array
full_55_array = np.full([3,4],66, dtype=int) 
print("full 55 array:\n", full_55_array, end="\n")











a = np.array([1, 0, 2, 0, 3, 0, 0, 5, 6, 7, 5, 0, 8])
np.average(a)






